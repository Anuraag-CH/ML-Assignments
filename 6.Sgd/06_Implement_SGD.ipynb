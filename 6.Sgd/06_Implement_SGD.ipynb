{
 "cells": [
  {
   "cell_type": "code",
   "execution_count": 1,
   "metadata": {
    "colab": {},
    "colab_type": "code",
    "id": "REYPoTJ1Af7u"
   },
   "outputs": [],
   "source": [
    "import warnings\n",
    "warnings.filterwarnings(\"ignore\")\n",
    "from sklearn.datasets import load_boston\n",
    "from random import seed\n",
    "from random import randrange\n",
    "from csv import reader\n",
    "from math import sqrt\n",
    "from sklearn import preprocessing\n",
    "import pandas as pd\n",
    "import numpy as np\n",
    "import matplotlib.pyplot as plt\n",
    "from prettytable import PrettyTable\n",
    "from sklearn.linear_model import SGDRegressor\n",
    "from sklearn import preprocessing\n",
    "from sklearn.metrics import mean_squared_error\n",
    "from sklearn.model_selection import train_test_split"
   ]
  },
  {
   "cell_type": "code",
   "execution_count": 2,
   "metadata": {
    "colab": {},
    "colab_type": "code",
    "id": "NTQ2iH-kAwbo"
   },
   "outputs": [],
   "source": [
    "# loading data into X,Y\n",
    "X = load_boston().data\n",
    "Y = load_boston().target"
   ]
  },
  {
   "cell_type": "code",
   "execution_count": 3,
   "metadata": {},
   "outputs": [
    {
     "name": "stdout",
     "output_type": "stream",
     "text": [
      "(339, 13)\n",
      "(167, 13)\n",
      "(339,)\n",
      "(167,)\n"
     ]
    }
   ],
   "source": [
    "#splitting data into X_train and X_test\n",
    "import sklearn\n",
    "X_train, X_test, Y_train, Y_test = train_test_split(X, Y, test_size = 0.33, random_state = 5)\n",
    "print(X_train.shape)\n",
    "print(X_test.shape)\n",
    "print(Y_train.shape)\n",
    "print(Y_test.shape)"
   ]
  },
  {
   "cell_type": "code",
   "execution_count": 8,
   "metadata": {
    "colab": {},
    "colab_type": "code",
    "id": "FgUW39s6Be0U"
   },
   "outputs": [],
   "source": [
    "#standardizing the data\n",
    "scaler = preprocessing.StandardScaler().fit(X_train)\n",
    "X_train = scaler.transform(X_train)\n",
    "X_test = scaler.transform(X_test)\n"
   ]
  },
  {
   "cell_type": "code",
   "execution_count": 9,
   "metadata": {
    "colab": {
     "base_uri": "https://localhost:8080/",
     "height": 34
    },
    "colab_type": "code",
    "executionInfo": {
     "elapsed": 879,
     "status": "ok",
     "timestamp": 1545718892607,
     "user": {
      "displayName": "Applied AI Course",
      "photoUrl": "https://lh5.googleusercontent.com/-9_3A9F-kDXs/AAAAAAAAAAI/AAAAAAAAACw/IprjYvUuoXQ/s64/photo.jpg",
      "userId": "00484516897554883881"
     },
     "user_tz": -330
    },
    "id": "HNu1sXtEBBS2",
    "outputId": "a0c5d3d0-345c-4a34-8ccf-0d9f3d7d23fd"
   },
   "outputs": [],
   "source": [
    "#clf = SGDRegressor(loss='squared_loss')\n",
    "#clf.fit(X, Y)\n",
    "#print(mean_squared_error(Y, clf.predict(X)))"
   ]
  },
  {
   "cell_type": "code",
   "execution_count": 12,
   "metadata": {},
   "outputs": [
    {
     "data": {
      "text/plain": [
       "SGDRegressor(alpha=0.0001, average=False, epsilon=0.1, eta0=0.01,\n",
       "       fit_intercept=True, l1_ratio=0.15, learning_rate='invscaling',\n",
       "       loss='squared_loss', max_iter=None, n_iter=None, penalty='l2',\n",
       "       power_t=0.25, random_state=None, shuffle=True, tol=None, verbose=0,\n",
       "       warm_start=False)"
      ]
     },
     "execution_count": 12,
     "metadata": {},
     "output_type": "execute_result"
    }
   ],
   "source": [
    "#Applying SGD regressor on Train data\n",
    "clf = SGDRegressor(loss='squared_loss')\n",
    "clf.fit(X_train, Y_train)"
   ]
  },
  {
   "cell_type": "code",
   "execution_count": 13,
   "metadata": {},
   "outputs": [
    {
     "data": {
      "image/png": "[encoded data removed]",
      "text/plain": [
       "<Figure size 432x288 with 1 Axes>"
      ]
     },
     "metadata": {},
     "output_type": "display_data"
    }
   ],
   "source": [
    "\n",
    "clf.fit(X_train, Y_train)\n",
    "#Finding the predicted prices\n",
    "Y_pred_clf = clf.predict(X_test)\n",
    "\n",
    "#plotting a chart of actual prices vs predicted prices for SGD regressor\n",
    "plt.scatter(Y_test, Y_pred_clf)\n",
    "plt.xlabel(\"Prices: $Y_i$\")\n",
    "plt.ylabel(\"Predicted prices: $\\hat{Y}_i$\")\n",
    "plt.title(\"Prices vs Predicted prices: $Y_i$ vs $\\hat{Y}_i$\")\n",
    "plt.show()"
   ]
  },
  {
   "cell_type": "code",
   "execution_count": 14,
   "metadata": {},
   "outputs": [
    {
     "data": {
      "image/png": "[encoded data removed]",
      "text/plain": [
       "<Figure size 432x288 with 1 Axes>"
      ]
     },
     "metadata": {},
     "output_type": "display_data"
    }
   ],
   "source": [
    "from sklearn.linear_model import LinearRegression\n",
    "\n",
    "lm = LinearRegression()\n",
    "lm.fit(X_train, Y_train)\n",
    "\n",
    "#Finding the predicted price\n",
    "Y_pred_lm = lm.predict(X_test)\n",
    "\n",
    "#plotting a chart of actual prices vs predicted prices for linear regression\n",
    "plt.scatter(Y_test, Y_pred_lm)\n",
    "plt.xlabel(\"Prices: $Y_i$\")\n",
    "plt.ylabel(\"Predicted prices: $\\hat{Y}_i$\")\n",
    "plt.title(\"Prices vs Predicted prices: $Y_i$ vs $\\hat{Y}_i$\")\n",
    "plt.show()"
   ]
  },
  {
   "cell_type": "code",
   "execution_count": 15,
   "metadata": {},
   "outputs": [
    {
     "data": {
      "text/plain": [
       "array([-0.81363518,  0.40405972, -0.51748626,  0.29339603, -0.22368237,\n",
       "        3.14507661, -0.42221585, -1.68006996,  0.74576312, -0.52451597,\n",
       "       -1.77986047,  0.87611157, -2.98815837])"
      ]
     },
     "execution_count": 15,
     "metadata": {},
     "output_type": "execute_result"
    }
   ],
   "source": [
    "#Finding weight vector of SGD\n",
    "clf.coef_"
   ]
  },
  {
   "cell_type": "code",
   "execution_count": 16,
   "metadata": {},
   "outputs": [
    {
     "data": {
      "text/plain": [
       "array([-1.31193031,  0.86187745, -0.16719287,  0.18957843, -1.48658584,\n",
       "        2.79131565, -0.32737703, -2.77204093,  2.97567549, -2.2727549 ,\n",
       "       -2.13375869,  1.05842993, -3.33495407])"
      ]
     },
     "execution_count": 16,
     "metadata": {},
     "output_type": "execute_result"
    }
   ],
   "source": [
    "#Finding weight vector of linear regression\n",
    "lm.coef_"
   ]
  },
  {
   "cell_type": "code",
   "execution_count": 17,
   "metadata": {},
   "outputs": [
    {
     "name": "stdout",
     "output_type": "stream",
     "text": [
      "  SGD Weights    Linear regression weigths\n",
      "-------------  ---------------------------\n",
      "      -0.8136                      -1.3119\n",
      "       0.4041                       0.8619\n",
      "      -0.5175                      -0.1672\n",
      "       0.2934                       0.1896\n",
      "      -0.2237                      -1.4866\n",
      "       3.1451                       2.7913\n",
      "      -0.4222                      -0.3274\n",
      "      -1.6801                      -2.7720\n",
      "       0.7458                       2.9757\n",
      "      -0.5245                      -2.2728\n",
      "      -1.7799                      -2.1338\n",
      "       0.8761                       1.0584\n",
      "      -2.9882                      -3.3350\n"
     ]
    }
   ],
   "source": [
    "#https://stackoverflow.com/questions/41140647/python-printing-lists-with-tabulate\n",
    "\n",
    "\n",
    "#Tabulating and comparing SGD and Linear regression weights\n",
    "from tabulate import tabulate\n",
    "headers = ['SGD Weights','Linear regression weigths']    \n",
    "\n",
    "\n",
    "table = zip(clf.coef_,lm.coef_)\n",
    "print(tabulate(table, headers=headers, floatfmt=\".4f\"))"
   ]
  },
  {
   "cell_type": "code",
   "execution_count": 18,
   "metadata": {},
   "outputs": [
    {
     "name": "stdout",
     "output_type": "stream",
     "text": [
      "21.39072011815044\n"
     ]
    }
   ],
   "source": [
    "clf.fit(X_train, Y_train)\n",
    "print(mean_squared_error(Y_train, clf.predict(X_train)))"
   ]
  },
  {
   "cell_type": "code",
   "execution_count": 19,
   "metadata": {},
   "outputs": [
    {
     "name": "stdout",
     "output_type": "stream",
     "text": [
      "19.54675847353467\n"
     ]
    }
   ],
   "source": [
    "lm.fit(X_train, Y_train)\n",
    "print(mean_squared_error(Y_train, lm.predict(X_train)))"
   ]
  },
  {
   "cell_type": "code",
   "execution_count": 20,
   "metadata": {},
   "outputs": [],
   "source": [
    "#calculating mean squared errors of both models\n",
    "a=(Y_test-clf.predict(X_test))\n",
    "b=(Y_test-lm.predict(X_test))\n",
    "\n",
    "a=a**2\n",
    "b=b**2"
   ]
  },
  {
   "cell_type": "code",
   "execution_count": 21,
   "metadata": {},
   "outputs": [
    {
     "name": "stdout",
     "output_type": "stream",
     "text": [
      "  SGD MSE    Linear regression MSE\n",
      "---------  -----------------------\n",
      "   0.6603                   0.0176\n",
      "   1.0227                  12.1909\n",
      "  16.9378                  20.4322\n",
      " 100.6309                  53.7519\n",
      "   3.8395                   2.4659\n",
      "  38.3353                  22.3665\n",
      "   8.0225                   9.8563\n",
      "   0.0056                   0.8594\n",
      "  13.7791                  12.6495\n",
      "   8.6762                   0.5588\n",
      "   0.6498                   0.9899\n",
      "   4.7137                   7.7641\n",
      "   5.0103                   9.6807\n",
      "  19.3146                   6.2054\n",
      "   5.5706                  15.1025\n",
      "   0.6116                   4.2494\n",
      " 410.3948                 309.7293\n",
      "   0.0879                   0.7770\n",
      "  30.9380                  27.3459\n",
      "  28.5613                  15.1458\n",
      "  13.6688                  29.2147\n",
      "  13.4311                  14.3116\n",
      "  50.4955                  40.8117\n",
      "   0.9498                   1.6113\n",
      "   0.0909                   0.3423\n",
      "   0.2017                   0.3870\n",
      "   2.1558                   3.3439\n",
      "   3.9715                   4.4596\n",
      "   1.3825                   0.3322\n",
      "   0.1089                  11.8969\n",
      "  17.7918                   1.5997\n",
      "   3.1109                   0.0064\n",
      "   9.4612                  24.5529\n",
      "  21.3465                  25.1473\n",
      "   3.1443                   7.9492\n",
      "   0.7905                   0.9731\n",
      "   6.6289                  10.7388\n",
      "   0.5360                   0.2552\n",
      "  48.8440                  51.1024\n",
      "   5.0086                   0.7585\n",
      "  20.2667                  40.7924\n",
      " 123.2739                 109.0770\n",
      "   3.4386                   0.1671\n",
      "   2.4091                   0.2696\n",
      "   0.0134                   0.0088\n",
      "  42.5192                  34.0705\n",
      " 195.8100                 175.5499\n",
      "  12.8017                   0.3066\n",
      "   1.3089                   0.0026\n",
      "   0.5680                   0.4035\n",
      "   0.5155                   0.0001\n",
      "   4.4839                   5.4124\n",
      "   3.8192                   4.7375\n",
      "   0.0911                   0.0097\n",
      "   0.5679                   3.0117\n",
      "   2.5984                   0.0055\n",
      "  65.8017                  71.9992\n",
      "   0.3204                   1.9132\n",
      "   0.0673                   0.0085\n",
      "   3.8915                   4.1037\n",
      "  12.0519                  14.2992\n",
      "   4.4805                   8.3210\n",
      "   4.9402                   2.8286\n",
      "  94.9936                  79.6567\n",
      "   7.1728                   3.5752\n",
      "   4.5771                  15.1269\n",
      "   3.2892                   1.1141\n",
      "   0.1442                   0.2851\n",
      "   0.2992                   0.0053\n",
      "   2.9018                   0.4932\n",
      "   3.2614                  15.0716\n",
      "  11.8745                  21.5886\n",
      "   3.5886                   3.4967\n",
      " 115.1919                  77.1025\n",
      " 136.8576                  78.6721\n",
      "   8.7710                  18.7876\n",
      "  13.3833                  20.0324\n",
      "   1.6009                   0.0954\n",
      "  12.8608                  17.0084\n",
      "   4.5382                  14.7832\n",
      "   0.0359                   8.0436\n",
      " 104.5661                 112.3588\n",
      "   0.6322                   0.3682\n",
      "   5.4019                  10.7180\n",
      "  23.8102                  34.7275\n",
      "  10.2004                  18.6629\n",
      "   0.1739                   1.1758\n",
      "   3.4962                   0.1004\n",
      "   0.8049                   0.4569\n",
      "   3.9801                   1.8368\n",
      " 203.0105                 188.7152\n",
      "   3.6719                   4.1783\n",
      "   6.6290                   0.0850\n",
      "   0.4778                   0.4683\n",
      "  15.3659                   4.5165\n",
      "   9.8774                   9.5345\n",
      "  11.0441                  11.1907\n",
      "   0.5707                  17.5903\n",
      "   6.6314                   1.9465\n",
      "   1.7963                   0.1687\n",
      "   5.4615                   0.0084\n",
      "   4.1824                   9.0657\n",
      "   1.0552                   1.1016\n",
      "  67.8689                  52.4643\n",
      "  35.3341                  46.0920\n",
      "   0.4646                   1.9360\n",
      "  21.1132                  38.7513\n",
      " 989.9258                 751.1242\n",
      "  20.6970                  23.3340\n",
      "   0.4032                   5.7133\n",
      "  16.8595                  13.8040\n",
      "   1.3212                   0.1264\n",
      "  30.8442                  52.2018\n",
      "  10.3347                   5.6124\n",
      "  12.3023                  20.5187\n",
      "   0.3668                   0.9498\n",
      "  30.9493                  13.7672\n",
      "   2.9821                   2.6733\n",
      "   2.5935                   0.2543\n",
      "   0.6682                   1.9840\n",
      "   5.9755                   9.4744\n",
      "   0.0890                   4.4263\n",
      "   4.7010                   2.3728\n",
      "  14.2292                   9.6116\n",
      "   0.8943                   1.3058\n",
      "   1.3961                   1.4449\n",
      "   5.8583                   0.8060\n",
      "   0.0174                   2.2955\n",
      "  15.3988                  17.5098\n",
      " 100.3884                  82.4811\n",
      " 150.7083                 147.6452\n",
      "  10.7323                  20.6138\n",
      "   1.2001                   4.1400\n",
      "   4.6595                   3.5877\n",
      "  33.5495                  54.0743\n",
      "   0.2894                   0.3950\n",
      "   0.7210                   3.9191\n",
      "  48.2809                  23.7523\n",
      "   3.0517                   3.2417\n",
      "   0.5713                   0.0166\n",
      "   7.0136                  13.0412\n",
      "  18.5664                   7.2417\n",
      "  19.1313                  16.0424\n",
      "  14.9465                   5.3290\n",
      "   0.9669                   0.0136\n",
      " 867.0612                 707.2908\n",
      "  47.9280                  37.6687\n",
      "   0.8946                   0.3658\n",
      "   4.1980                   5.6095\n",
      "  47.4987                  43.4578\n",
      "   0.1041                   0.0038\n",
      " 431.5750                 329.0273\n",
      "   0.2202                   1.8615\n",
      "   1.9557                   8.5125\n",
      "   0.3472                   7.9701\n",
      "  17.1837                  16.0415\n",
      "   9.2588                  20.8928\n",
      "   0.7249                   0.0824\n",
      "  12.4961                  19.7446\n",
      "   0.2006                   0.5149\n",
      "   3.3543                   6.1065\n",
      "  14.4457                  24.5683\n",
      "  20.5040                  21.9177\n",
      "   3.1268                   0.4827\n",
      "   0.0327                   0.1633\n",
      "   2.4052                   3.4385\n",
      "   0.4784                   1.4528\n"
     ]
    }
   ],
   "source": [
    "  #comparing MSE of SGD regressor and linear regression \n",
    "from tabulate import tabulate\n",
    "headers = ['SGD MSE','Linear regression MSE']    \n",
    "\n",
    "\n",
    "table = zip(a,b)\n",
    "print(tabulate(table, headers=headers, floatfmt=\".4f\"))"
   ]
  },
  {
   "cell_type": "markdown",
   "metadata": {},
   "source": [
    "# Conclusions"
   ]
  },
  {
   "cell_type": "markdown",
   "metadata": {},
   "source": [
    "1.Mean sqaured error of SGD regressor is higher than that of linear regression\n",
    "\n",
    "2.Most of the SGD weights are higher than that of linear model's weights"
   ]
  }
 ],
 "metadata": {
  "colab": {
   "name": "Untitled3.ipynb",
   "provenance": [],
   "version": "0.3.2"
  },
  "kernelspec": {
   "display_name": "Python 3",
   "language": "python",
   "name": "python3"
  },
  "language_info": {
   "codemirror_mode": {
    "name": "ipython",
    "version": 3
   },
   "file_extension": ".py",
   "mimetype": "text/x-python",
   "name": "python",
   "nbconvert_exporter": "python",
   "pygments_lexer": "ipython3",
   "version": "3.6.5"
  }
 },
 "nbformat": 4,
 "nbformat_minor": 1
}
